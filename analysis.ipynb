{
 "cells": [
  {
   "cell_type": "markdown",
   "metadata": {},
   "source": [
    "# FASTGenomics Seurat Analysis"
   ]
  },
  {
   "cell_type": "markdown",
   "metadata": {},
   "source": [
    "<font color=\"red\">You might want to describe your analysis briefly here, if you are planning to share it.</font>"
   ]
  },
  {
   "cell_type": "code",
   "execution_count": null,
   "metadata": {},
   "outputs": [],
   "source": [
    "# Place all your R package imports here.\n",
    "\n",
    "library(fgread)\n",
    "library(Seurat)"
   ]
  },
  {
   "cell_type": "code",
   "execution_count": null,
   "metadata": {},
   "outputs": [],
   "source": [
    "# Place all your parameter values and options here.\n",
    "\n",
    "options(repr.plot.width=10, repr.plot.height=5)"
   ]
  },
  {
   "cell_type": "markdown",
   "metadata": {},
   "source": [
    "## Raw Data\n",
    "First, the raw dataset(s) will be read into Seurat object(s).\n",
    "\n",
    "<font color=\"red\">You can describe your data here using markdown or delete this text.</font>"
   ]
  },
  {
   "cell_type": "code",
   "execution_count": null,
   "metadata": {},
   "outputs": [],
   "source": [
    "# Print metadata of all attached datasets\n",
    "ds_info <- fgread::ds_info()\n",
    "ds_info"
   ]
  },
  {
   "cell_type": "code",
   "execution_count": null,
   "metadata": {},
   "outputs": [],
   "source": [
    "# Load the attached dataset\n",
    "fgread::load_data() # If multiple datasets are attached, you have to select one by its id or tile"
   ]
  },
  {
   "cell_type": "code",
   "execution_count": null,
   "metadata": {},
   "outputs": [],
   "source": [
    "# Alternatively, if you started the analysis without datasets, load your data from elsewhere\n",
    "# (see our tutorial \"How to Load Data in FASTGenomics (R)\")"
   ]
  },
  {
   "cell_type": "markdown",
   "metadata": {},
   "source": [
    "## Preprocessing\n",
    "<font color=\"red\">You can describe your preprocessing here or delete this text.</font>\n",
    "\n",
    "If this is your first analysis, you might want to have a look at our tutorials on\n",
    "<a href=\"https://beta.fastgenomics.org/webclient/ui/#/analyses/detail-analysis-42e3571101184ed78856cbd83adfeb7e\" target=\"_blank\">Getting Started with FASTGenomics Lab</a>,\n",
    "<a href=\"https://beta.fastgenomics.org/webclient/ui/#/analyses/detail-analysis-e0627e87fbda4157bb60ae981671ca50\" target=\"_blank\">How to Load Data in FASTGenomics (R)</a>, or\n",
    "<a href=\"https://beta.fastgenomics.org/webclient/ui/#/analyses/detail-analysis-d1919b04783a47fe8ffb02a7a5bc8fae\" target=\"_blank\">Seurat's Guided Clustering Tutorial</a>."
   ]
  }
 ],
 "metadata": {
  "hide_input": false,
  "kernelspec": {
   "display_name": "R",
   "language": "R",
   "name": "ir"
  },
  "language_info": {
   "codemirror_mode": "r",
   "file_extension": ".r",
   "mimetype": "text/x-r-source",
   "name": "R",
   "pygments_lexer": "r",
   "version": "3.6.3"
  },
  "toc": {
   "base_numbering": 1,
   "nav_menu": {},
   "number_sections": true,
   "sideBar": true,
   "skip_h1_title": false,
   "title_cell": "Table of Contents",
   "title_sidebar": "Contents",
   "toc_cell": false,
   "toc_position": {},
   "toc_section_display": true,
   "toc_window_display": false
  },
  "widgets": {
   "application/vnd.jupyter.widget-state+json": {
    "state": {},
    "version_major": 2,
    "version_minor": 0
   }
  }
 },
 "nbformat": 4,
 "nbformat_minor": 4
}
