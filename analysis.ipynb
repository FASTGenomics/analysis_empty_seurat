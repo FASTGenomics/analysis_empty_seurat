{
 "cells": [
  {
   "cell_type": "markdown",
   "metadata": {},
   "source": [
    "# Plain Jupyter Notebook in R"
   ]
  },
  {
   "cell_type": "markdown",
   "metadata": {},
   "source": [
    "## The first step could be data loading\n",
    "Can be done with fgread like this:"
   ]
  },
  {
   "cell_type": "code",
   "execution_count": 4,
   "metadata": {},
   "outputs": [
    {
     "data": {
      "text/plain": [
       "[[1]]\n",
       "An object of class \"DataSet\"\n",
       "Slot \"id\":\n",
       "[1] 1\n",
       "\n",
       "Slot \"metadata\":\n",
       "$title\n",
       "[1] \"10X 3k PBMC data\"\n",
       "\n",
       "$format\n",
       "[1] \"Loom\"\n",
       "\n",
       "$file\n",
       "[1] \"data.loom\"\n",
       "\n",
       "\n",
       "Slot \"path\":\n",
       "[1] \"/fastgenomics/data/dataset_0001\"\n",
       "\n",
       "Slot \"file\":\n",
       "[1] \"/fastgenomics/data/dataset_0001/data.loom\"\n",
       "\n"
      ]
     },
     "metadata": {},
     "output_type": "display_data"
    }
   ],
   "source": [
    "# List data sets\n",
    "dsets <- fgread::list_datasets()\n",
    "dsets"
   ]
  },
  {
   "cell_type": "code",
   "execution_count": 8,
   "metadata": {},
   "outputs": [
    {
     "name": "stderr",
     "output_type": "stream",
     "text": [
      "Warning message:\n",
      "“Feature names cannot have underscores ('_'), replacing with dashes ('-')”"
     ]
    },
    {
     "data": {
      "text/plain": [
       "An object of class Seurat \n",
       "32738 features across 2700 samples within 1 assay \n",
       "Active assay: RNA (32738 features)"
      ]
     },
     "metadata": {},
     "output_type": "display_data"
    }
   ],
   "source": [
    "# Load first data set into seurat object\n",
    "seurat <- fgread::read_dataset(dsets[[1]])\n",
    "seurat"
   ]
  }
 ],
 "metadata": {
  "kernelspec": {
   "display_name": "R",
   "language": "R",
   "name": "ir"
  },
  "language_info": {
   "codemirror_mode": "r",
   "file_extension": ".r",
   "mimetype": "text/x-r-source",
   "name": "R",
   "pygments_lexer": "r",
   "version": "3.5.1"
  }
 },
 "nbformat": 4,
 "nbformat_minor": 4
}
