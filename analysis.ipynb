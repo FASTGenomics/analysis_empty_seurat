{
 "cells": [
  {
   "cell_type": "markdown",
   "metadata": {},
   "source": [
    "# FASTGenomics Seurat Analysis"
   ]
  },
  {
   "cell_type": "markdown",
   "metadata": {},
   "source": [
    "<font color=\"red\">You might want to describe your analysis briefly here, if you are planning to share it.</font>"
   ]
  },
  {
   "cell_type": "code",
   "execution_count": null,
   "metadata": {},
   "outputs": [],
   "source": [
    "# Place all your R package imports here.\n",
    "\n",
    "library(fgread)\n",
    "library(Seurat)"
   ]
  },
  {
   "cell_type": "code",
   "execution_count": null,
   "metadata": {},
   "outputs": [],
   "source": [
    "# Place all your parameter values and options here.\n",
    "\n",
    "options(repr.plot.width=10, repr.plot.height=5)"
   ]
  },
  {
   "cell_type": "markdown",
   "metadata": {},
   "source": [
    "## Raw Data\n",
    "First, the raw dataset(s) will be read into Seurat object(s)."
   ]
  },
  {
   "cell_type": "code",
   "execution_count": null,
   "metadata": {},
   "outputs": [],
   "source": [
    "# Load metadate of each dataset\n",
    "dsets <- fgread::get_datasets()\n",
    "dsets"
   ]
  },
  {
   "cell_type": "code",
   "execution_count": null,
   "metadata": {},
   "outputs": [],
   "source": [
    "# Read all datasets into a list of Seurat objects\n",
    "seurat_lst <- fgread::read_datasets(experimental_readers=T) # If you have multiple datasets they will be all loaded into RAM.\n",
    "\n",
    "# You can, for example, iterate over your datasets and print basic information for each\n",
    "for (seurat in seurat_lst) {\n",
    "    print(seurat)\n",
    "}"
   ]
  },
  {
   "cell_type": "code",
   "execution_count": null,
   "metadata": {},
   "outputs": [],
   "source": [
    "# You can also select a single dataset by its ID like below. This will return a single AnnData object and save you some RAM if you don't neet all datasets right away\n",
    "# seurat <- fgread::read_datasets(dsets[[1]], experimental_readers=T)"
   ]
  },
  {
   "cell_type": "markdown",
   "metadata": {},
   "source": [
    "## Preprocessing\n",
    "If this is your first analysis, you can find examples [here](https://beta.fastgenomics.org/webclient/ui/#/analyses/detail-analysis-c4a597f0842941aa9d73072e473de91d) or [here](https://beta.fastgenomics.org/webclient/ui/#/analyses/detail-analysis-37e3664431a34d4a9bb6b9f725036f48).\n",
    "\n",
    "<font color=\"red\">You can describe your preprocessing here or delete this text.</font>"
   ]
  },
  {
   "cell_type": "code",
   "execution_count": null,
   "metadata": {},
   "outputs": [],
   "source": []
  }
 ],
 "metadata": {
  "hide_input": false,
  "kernelspec": {
   "display_name": "R",
   "language": "R",
   "name": "ir"
  },
  "language_info": {
   "codemirror_mode": "r",
   "file_extension": ".r",
   "mimetype": "text/x-r-source",
   "name": "R",
   "pygments_lexer": "r",
   "version": "3.6.2"
  },
  "toc": {
   "base_numbering": 1,
   "nav_menu": {},
   "number_sections": true,
   "sideBar": true,
   "skip_h1_title": false,
   "title_cell": "Table of Contents",
   "title_sidebar": "Contents",
   "toc_cell": false,
   "toc_position": {},
   "toc_section_display": true,
   "toc_window_display": false
  }
 },
 "nbformat": 4,
 "nbformat_minor": 4
}
