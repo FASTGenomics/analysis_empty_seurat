{
 "cells": [
  {
   "cell_type": "markdown",
   "metadata": {},
   "source": [
    "# Plain Jupyter Notebook in R"
   ]
  },
  {
   "cell_type": "markdown",
   "metadata": {},
   "source": [
    "## The first step could be data loading\n",
    "Can be done with fgread like this:"
   ]
  },
  {
   "cell_type": "code",
   "execution_count": null,
   "metadata": {},
   "outputs": [],
   "source": [
    "# Get data sets\n",
    "dsets <- fgread::get_datasets()\n",
    "dsets"
   ]
  },
  {
   "cell_type": "code",
   "execution_count": null,
   "metadata": {},
   "outputs": [],
   "source": [
    "# Load first data set into seurat object\n",
    "# Use experiental readers for loom and AnnData provided by FASTGenomics, as loom is not available in Seurat v3 and AnnData is not always working\n",
    "seurat <- fgread::read_datasets(dsets[[1]], experimental_readers=T)\n",
    "seurat"
   ]
  }
 ],
 "metadata": {
  "file_extension": ".py",
  "language_info": {
   "codemirror_mode": {
    "name": "ipython",
    "version": 3
   },
   "name": "python"
  },
  "mimetype": "text/x-python",
  "name": "python",
  "npconvert_exporter": "python",
  "pygments_lexer": "ipython3",
  "version": 3
 },
 "nbformat": 4,
 "nbformat_minor": 2
}
